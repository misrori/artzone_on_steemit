{
 "cells": [
  {
   "cell_type": "markdown",
   "metadata": {},
   "source": [
    "The code below will shown how the artzone community on steemit.com is working. The brilliant idea is coming from https://steemit.com/@surfyogi and the technical development is coming from  https://steemit.com/@misrori"
   ]
  },
  {
   "cell_type": "markdown",
   "metadata": {},
   "source": [
    "Artzone https://steemit.com/@artzone aim is to promote the quality post on steemit related with art! \n",
    "The code shows how to develop a voting bot which will look for a specific tag and reward the author! "
   ]
  },
  {
   "cell_type": "markdown",
   "metadata": {},
   "source": [
    "The code will run in every hour with the help of crontab. The output is also appended a log file. "
   ]
  },
  {
   "cell_type": "markdown",
   "metadata": {},
   "source": [
    "If you want to get upvote from @aztrone you have to follow the rules: \n",
    "*have artzone tag in the post\n",
    "*follow @artzone\n",
    "*body lenght should be greater than 300 character\n",
    "*have at least on link in the post\n",
    "*artzone can give just one upvote per day\n",
    "*origin artwork"
   ]
  },
  {
   "cell_type": "markdown",
   "metadata": {},
   "source": [
    "import the packages and print to the log the date "
   ]
  },
  {
   "cell_type": "code",
   "execution_count": null,
   "metadata": {
    "collapsed": true
   },
   "outputs": [],
   "source": [
    "print('###########################################################################################################################################')\n",
    "from steem import Steem\n",
    "from contextlib import suppress\n",
    "from steem.blockchain import Blockchain\n",
    "from steem.post import Post\n",
    "from steem.account import Account\n",
    "from steembase.exceptions import PostDoesNotExist\n",
    "import time\n",
    "import sys\n",
    "import pandas as pd\n",
    "import datetime\n",
    "from pyvirtualdisplay import Display\n",
    "from selenium import webdriver\n",
    "from selenium.webdriver.common.keys import Keys\n",
    "from bs4 import BeautifulSoup\n",
    "\n",
    "print(\"#################################################\")\n",
    "print(datetime.datetime.now())\n",
    "print(\"The voting process started\")"
   ]
  },
  {
   "cell_type": "markdown",
   "metadata": {},
   "source": [
    "Now you can find some functions the i have created for the voting process"
   ]
  },
  {
   "cell_type": "code",
   "execution_count": null,
   "metadata": {
    "collapsed": true
   },
   "outputs": [],
   "source": [
    "# get the posts that are created with your tag in our case it is artzone\n",
    "# I am using selenium with headless scraping.\n",
    "def get_post_with_selenium(): \n",
    "    while True:\n",
    "        try:\n",
    "            display = Display(visible=0, size=(1920, 1080)).start()\n",
    "            driver = webdriver.Firefox()\n",
    "            driver.get(\"https://steemit.com/created/artzone\")\n",
    "            time.sleep(10)\n",
    "            while True:\n",
    "                driver.execute_script(\"window.scrollTo(0, document.body.scrollHeight);\")\n",
    "                time.sleep(10)\n",
    "                soup = BeautifulSoup(driver.page_source, 'html.parser')\n",
    "                t = list(map(lambda x : x.text, soup.select('.updated span')))\n",
    "                if(('hours' in t[len(t)-1]) or ('day' in t[len(t)-1]) or ('days' in t[len(t)-1])):\n",
    "                    break\n",
    "\n",
    "            soup = BeautifulSoup(driver.page_source, 'html.parser')\n",
    "\n",
    "            postok = list()\n",
    "            for link in soup.select('.entry-title a[href]'):\n",
    "                postok.append(link['href'])\n",
    "            if(len(postok)>0):\n",
    "                return(postok)\n",
    "                break\n",
    "            else:\n",
    "                print(\"selenium is now sleeping\")\n",
    "                time.sleep(300)\n",
    "        except:\n",
    "            print('some errror with selenium')\n",
    "        finally:\n",
    "            driver.close()\n",
    "            display.stop()\n",
    "            \n",
    "# one upvote per day. in the server has 8 hour timedifference, than steemit blockchain time\n",
    "def get_voted_users_last_24(user, timediff):\n",
    "    account = Account(user)\n",
    "    already_voted = pd.DataFrame(account.get_account_votes())\n",
    "    already_voted.time = already_voted.time.astype('datetime64[ns]')\n",
    "    now_data = datetime.datetime.now() - datetime.timedelta(hours=timediff)\n",
    "    min_date = now_data - datetime.timedelta(hours=24)\n",
    "    already_voted['author']= list(map(lambda x: x[0], already_voted.authorperm.str.split('/',1)))\n",
    "    already_voted = already_voted[already_voted.time>min_date]\n",
    "    already_voted = already_voted.reset_index(drop=True)\n",
    "    already_voted_users =  list(already_voted['author'])\n",
    "    return(already_voted_users)\n",
    "\n",
    "# get the content of the post\n",
    "def get_content(post_id):\n",
    "    author = post_id[1:].split('/')[0]\n",
    "    post_link = post_id[1:].split('/')[1]\n",
    "    return(s.steemd.get_content(author, post_link))\n",
    "\n",
    "# get the replies of the post\n",
    "def get_replies(post_id):\n",
    "    author = post_id[1:].split('/')[0]\n",
    "    post_link = post_id[1:].split('/')[1]\n",
    "    return(s.steemd.get_content_replies(author, post_link))\n",
    "\n",
    "# check if artzone is already voted for the post\n",
    "def check_for_votes(content):\n",
    "    return('artzone' in list(map(lambda x: x['voter'], content['active_votes'])))\n",
    "\n",
    "# get the current voting power of the bot\n",
    "def get_voting_sp(user):\n",
    "    t = s.steemd.get_account(user)\n",
    "    last_vote = datetime.datetime.strptime(t['last_vote_time'], '%Y-%m-%dT%H:%M:%S')\n",
    "    eltelt = ((datetime.datetime.now() - datetime.timedelta(hours=8)) - last_vote).total_seconds()\n",
    "    current = (float(t['voting_power']) + ((10000* eltelt)/432000))\n",
    "    return(current)\n",
    "\n",
    "# check if artzone already commented on the post\n",
    "def check_for_comment(replies):\n",
    "    return('artzone' in list(map(lambda x:x['author'],replies)))\n",
    "\n",
    "# check the origin of the post\n",
    "def check_for_cheet(replies):\n",
    "    return('cheetah' in list(map(lambda x:x['author'],replies)))\n",
    "\n",
    "\n"
   ]
  },
  {
   "cell_type": "markdown",
   "metadata": {},
   "source": [
    "Authenticate into steemit blockchain"
   ]
  },
  {
   "cell_type": "code",
   "execution_count": null,
   "metadata": {
    "collapsed": true
   },
   "outputs": [],
   "source": [
    "\n",
    "s = Steem(keys=['<posting key>', '<active key>'])\n",
    "\n"
   ]
  },
  {
   "cell_type": "markdown",
   "metadata": {},
   "source": [
    "Check if the current voting sp is greater than 85%. If not than the bot will do nothing. Hopefully in the next hour will recover. "
   ]
  },
  {
   "cell_type": "code",
   "execution_count": null,
   "metadata": {
    "collapsed": true
   },
   "outputs": [],
   "source": [
    "if(get_voting_sp('artzone')<8500):\n",
    "    sys.exit(\"Voting power is to slow\")\n",
    "    \n",
    "  "
   ]
  },
  {
   "cell_type": "markdown",
   "metadata": {},
   "source": [
    "Define the comments that the bot will post. "
   ]
  },
  {
   "cell_type": "code",
   "execution_count": null,
   "metadata": {
    "collapsed": true
   },
   "outputs": [],
   "source": [
    "not_following_artzone_comment = \"\"\"Dear friend, you do not appear to be following @artzone. Follow @artzone to get a valuable upvote on your quality post! \"\"\"\n",
    "not_quality_post_links = \"\"\"To get upvote from @artzone, the post needs to have at least one link (pictures or website link). \"\"\"\n",
    "not_quality_post_body_length = \"\"\"To get upvote from @artzone, the post needs at least 300 characters! Please describe your work in detail ;-)\"\"\"\n",
    "not_using_artzone= \"\"\"Dear friend! Next time also use #artzone and follow @artzone to get an upvote on your quality posts! \"\"\"\n",
    "length_and_link_problems=\"\"\"To get an upvote from @artzone the post needs to have at least two links(pictures or website link) in the post and at least 300 characters.\"\"\"\n",
    "good_post = \"\"\"Hello! I find your post valuable for the art community! Thanks for the great post! ARTzone is now following you! ALWAYs follow @artzone and the artzone tag, and support our artists!\"\"\"\n",
    "one_upvote_per_day_commnet= '''Thanks for using #artzone tag! Artzone can give just one upvote per day!'''\n"
   ]
  },
  {
   "cell_type": "markdown",
   "metadata": {},
   "source": [
    "Geting the posts and the voted users"
   ]
  },
  {
   "cell_type": "code",
   "execution_count": null,
   "metadata": {
    "collapsed": true
   },
   "outputs": [],
   "source": [
    "# get the voted users\n",
    "voted_users = get_voted_users_last_24('artzone', 8)\n",
    "\n",
    "# get the author followers\n",
    "artzone_followers = Account('artzone').get_followers()\n",
    "\n",
    "# get the post ids\n",
    "sel_list = get_post_with_selenium()\n",
    "sel_list =list(map(lambda x: '/'.join(x.split('/')[2:]), sel_list))\n"
   ]
  },
  {
   "cell_type": "code",
   "execution_count": null,
   "metadata": {
    "collapsed": true
   },
   "outputs": [],
   "source": [
    "#creating different list\n",
    "post_to_vote = list()\n",
    "comments_to_follow = list()\n",
    "comments_body_length = list()\n",
    "comments_links = list()\n",
    "comments_oneperday= list()\n",
    "comments_body_and_link = list()\n",
    "\n"
   ]
  },
  {
   "cell_type": "markdown",
   "metadata": {},
   "source": [
    "The post id will be categoriezed into different category"
   ]
  },
  {
   "cell_type": "code",
   "execution_count": null,
   "metadata": {
    "collapsed": true
   },
   "outputs": [],
   "source": [
    "\n",
    "# going through and put the post into lists\n",
    "for post in sel_list:\n",
    "    try:\n",
    "        \n",
    "        t = get_content(post)\n",
    "        replies = get_replies(post)\n",
    "\n",
    "        # get body length\n",
    "        body_length =len(t['body'])\n",
    "        # number of links\n",
    "        number_of_links = t['body'].count(\"http\")\n",
    "        # is there an answer from artzone\n",
    "        answered = check_for_comment(replies)\n",
    "        # cheated\n",
    "        cheeted = check_for_cheet(replies)\n",
    "        \n",
    "        # is it upvoted by artzone\n",
    "        upvoted = check_for_votes(t)\n",
    "        \n",
    "        # follow every artist who wrote for us\n",
    "        if (t['author'] not in Account('artzone').get_following()):\n",
    "            s.commit.follow(account='artzone', follow=t['author'])\n",
    "\n",
    "        # now good post\n",
    "        if(( t['author'] in artzone_followers) & (body_length>300) & (number_of_links>=1) &(answered==False) & (upvoted==False) &(cheeted ==False) ):\n",
    "            # one upvote per day!    \n",
    "            if( t['author'] in voted_users ):\n",
    "                comments_oneperday.append(post)\n",
    "                #post.reply(title=\"\", body=\"Thanks for using artzone tag! Artzone can give just one upvote per day! \", author='artzone')\n",
    "            else:\n",
    "                post_to_vote.append(post)\n",
    "\n",
    "        if ((t['author'] not in artzone_followers ) & (answered==False) &(cheeted ==False)):\n",
    "            #post.reply(title=\"\", body=not_following_artzone_comment, author='artzone')\n",
    "            comments_to_follow.append(post)\n",
    "\n",
    "        if((t['author'] in artzone_followers) & (body_length<300) & (number_of_links>=1) & (answered==False) &(cheeted ==False)):\n",
    "            #post.reply(title=\"\", body=not_quality_post_body_length, author='artzone')\n",
    "            comments_body_length.append(post)\n",
    "\n",
    "        if((t['author'] in artzone_followers) & (body_length>300) & (number_of_links<1) & (answered==False) &(cheeted ==False)):\n",
    "            #post.reply(title=\"\", body=not_quality_post_links, author='artzone')\n",
    "            comments_links.append(post)\n",
    "\n",
    "        if((t['author'] in artzone_followers) & (body_length<300) & (number_of_links<1) & (answered==False)&(cheeted ==False)):\n",
    "            #post.reply(title=\"\", body=length_and_link_problems, author='artzone')\n",
    "            comments_body_and_link.append(post)\n",
    "\n",
    "    except:\n",
    "        print(\"some error\")\n",
    "print(\"#################################################\")\n",
    "print(datetime.datetime.now())\n",
    "print(\"ready to vote\")\n"
   ]
  },
  {
   "cell_type": "markdown",
   "metadata": {},
   "source": [
    "The voting process"
   ]
  },
  {
   "cell_type": "code",
   "execution_count": null,
   "metadata": {
    "collapsed": true
   },
   "outputs": [],
   "source": [
    "#vote start\n",
    "print(\"#################################################\")\n",
    "print(\"I have found \" + str(len(post_to_vote)) + \" posts to upvote\"  )\n",
    "print(\"start to upvote them\")\n",
    "\n",
    "if(len(post_to_vote)>0):\n",
    "    voting_weight = 41/(len(post_to_vote))\n",
    "    print(\"the voting_weight is \"+ str(voting_weight))\n",
    "\n",
    "    for post in post_to_vote:\n",
    "        try:\n",
    "            print(\"voting for\")\n",
    "            print(post)\n",
    "            s.commit.vote(identifier=post,weight= voting_weight, account='artzone', )\n",
    "            time.sleep(5)\n",
    "            print(\"thanks commnet\")\n",
    "            s.commit.post(title=\"\", body=good_post, author='artzone', reply_identifier=post)\n",
    "            time.sleep(20)\n",
    "        except:\n",
    "            print(\"somme error during for voting\")\n",
    "#vote end\n",
    "# ------------------------------------------------------------------------------------------------------        \n"
   ]
  },
  {
   "cell_type": "code",
   "execution_count": null,
   "metadata": {
    "collapsed": true
   },
   "outputs": [],
   "source": [
    "Comment to follow"
   ]
  },
  {
   "cell_type": "code",
   "execution_count": null,
   "metadata": {
    "collapsed": true
   },
   "outputs": [],
   "source": [
    "#not following start \n",
    "    \n",
    "print(\"#################################################\")\n",
    "print(\"I have found \" + str(len(comments_to_follow)) + \" posts to comment to follow artzone\"  )\n",
    "print(\"start to comment them\")\n",
    "\n",
    "    \n",
    "\n",
    "if(len(comments_to_follow)>0):\n",
    "    for post in comments_to_follow:\n",
    "        try:\n",
    "            print(\"comment to follow\")\n",
    "            print(post)\n",
    "            s.commit.post(title=\"\", body=not_following_artzone_comment, author='artzone', reply_identifier=post)\n",
    "            time.sleep(20)\n",
    "        except:\n",
    "            print(\"somme error during for not_following_artzone_comment\")\n",
    "\n",
    "#not following end\n",
    "# ------------------------------------------------------------------------------------------------------        \n",
    "\n"
   ]
  },
  {
   "cell_type": "code",
   "execution_count": null,
   "metadata": {
    "collapsed": true
   },
   "outputs": [],
   "source": [
    "The body is to small "
   ]
  },
  {
   "cell_type": "code",
   "execution_count": null,
   "metadata": {
    "collapsed": true
   },
   "outputs": [],
   "source": [
    "# body to small start\n",
    "print(\"#################################################\")\n",
    "print(\"I have found \" + str(len(comments_body_length)) + \" posts to comment to body is to small\"  )\n",
    "print(\"start to comment them\")\n",
    "\n",
    "\n",
    "if(len(comments_body_length)>0):\n",
    "    for post in comments_body_length:\n",
    "        try:\n",
    "            print(\"comment to make more characters\")\n",
    "            print(post)\n",
    "            s.commit.post(title=\"\", body=not_quality_post_body_length, author='artzone', reply_identifier=post)\n",
    "            time.sleep(20)\n",
    "        except:\n",
    "            print(\"somme error during for not_quality_post_body_length\")\n",
    "# body to small ends\n",
    "# ------------------------------------------------------------------------------------------------------        \n"
   ]
  },
  {
   "cell_type": "code",
   "execution_count": null,
   "metadata": {
    "collapsed": true
   },
   "outputs": [],
   "source": [
    "Not enough links"
   ]
  },
  {
   "cell_type": "code",
   "execution_count": null,
   "metadata": {
    "collapsed": true
   },
   "outputs": [],
   "source": [
    "# not enough link start\n",
    "print(\"#################################################\")\n",
    "print(\"I have found \" + str(len(comments_links)) + \" posts to comment not enough links\"  )\n",
    "print(\"start to comment them\")\n",
    "    \n",
    "\n",
    "if(len(comments_links)>0):\n",
    "    for post in comments_links:\n",
    "        try:\n",
    "            print(\"comment to make more characters\")\n",
    "            print(post)\n",
    "            s.commit.post(title=\"\", body=not_quality_post_body_length, author='artzone', reply_identifier=post)\n",
    "            time.sleep(20)\n",
    "        except:\n",
    "            print(\"somme error during for comments_links\")\n",
    "\n",
    "# not enogh link ends\n",
    "# ------------------------------------------------------------------------------------------------------        \n"
   ]
  },
  {
   "cell_type": "code",
   "execution_count": null,
   "metadata": {
    "collapsed": true
   },
   "outputs": [],
   "source": [
    "One upvote per day"
   ]
  },
  {
   "cell_type": "code",
   "execution_count": null,
   "metadata": {
    "collapsed": true
   },
   "outputs": [],
   "source": [
    "#one vote perday start\n",
    "print(\"#################################################\")\n",
    "print(\"I have found \" + str(len(comments_oneperday)) + \" posts to comment one vote per day\"  )\n",
    "print(\"start to comment them\")\n",
    "    \n",
    "if(len(comments_oneperday)>0):\n",
    "    for post in comments_oneperday:\n",
    "        try:\n",
    "            print(\"comment to one vote per day\")\n",
    "            print(post)\n",
    "            s.commit.post(title=\"\", body=one_upvote_per_day_commnet , author='artzone', reply_identifier=post)\n",
    "            time.sleep(20)\n",
    "        except:\n",
    "            print(\"somme error during for comments_oneperday\")\n",
    "\n",
    "# one vote perday ends\n",
    "# ------------------------------------------------------------------------------------------------------        \n"
   ]
  },
  {
   "cell_type": "code",
   "execution_count": null,
   "metadata": {
    "collapsed": true
   },
   "outputs": [],
   "source": [
    "Bad quality post"
   ]
  },
  {
   "cell_type": "code",
   "execution_count": null,
   "metadata": {
    "collapsed": true
   },
   "outputs": [],
   "source": [
    "# body and lenght start \n",
    "print(\"#################################################\")\n",
    "print(\"I have found \" + str(len(comments_body_and_link)) + \" posts to commentbody and link problems\"  )\n",
    "print(\"start to comment them\")\n",
    "\n",
    "\n",
    "if(len(comments_body_and_link)>0):\n",
    "    for post in comments_body_and_link:\n",
    "        try:\n",
    "            print(\"comment to body and link problem\")\n",
    "            print(post)\n",
    "            s.commit.post(title=\"\", body=length_and_link_problems , author='artzone', reply_identifier=post)\n",
    "            time.sleep(20)\n",
    "        except:\n",
    "            print(\"somme error during for length_and_link_problems\")\n",
    "\n",
    "# body and lenght ends\n",
    "print(\"#################################################\")\n",
    "print(datetime.datetime.now())\n",
    "print(\"The voting process ended\")\n"
   ]
  }
 ],
 "metadata": {
  "kernelspec": {
   "display_name": "Python 3",
   "language": "python",
   "name": "python3"
  },
  "language_info": {
   "codemirror_mode": {
    "name": "ipython",
    "version": 3
   },
   "file_extension": ".py",
   "mimetype": "text/x-python",
   "name": "python",
   "nbconvert_exporter": "python",
   "pygments_lexer": "ipython3",
   "version": "3.5.1"
  }
 },
 "nbformat": 4,
 "nbformat_minor": 0
}
